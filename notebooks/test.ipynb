{
 "cells": [
  {
   "cell_type": "code",
   "execution_count": null,
   "metadata": {},
   "outputs": [
    {
     "name": "stdout",
     "output_type": "stream",
     "text": [
      "\n",
      "  ✨  Starting the web server at http://localhost:8080 ...\n",
      "  Open the app in your browser and start annotating!\n",
      "\n"
     ]
    }
   ],
   "source": [
    "!prodigy ner.teach my_set en_core_web_sm news_headlines.jsonl"
   ]
  },
  {
   "cell_type": "code",
   "execution_count": 1,
   "metadata": {},
   "outputs": [],
   "source": [
    "import prodigy"
   ]
  },
  {
   "cell_type": "code",
   "execution_count": null,
   "metadata": {},
   "outputs": [
    {
     "name": "stdout",
     "output_type": "stream",
     "text": [
      "\n",
      "  ✨  Starting the web server at http://localhost:8080 ...\n",
      "  Open the app in your browser and start annotating!\n",
      "\n"
     ]
    },
    {
     "name": "stderr",
     "output_type": "stream",
     "text": [
      "19:28:54 - Task queue depth is 1\n",
      "19:28:54 - Task queue depth is 1\n"
     ]
    }
   ],
   "source": [
    "prodigy.serve('ner.teach', 'my_set', 'en_core_web_sm', 'news_headlines.jsonl', \n",
    "              None, None, ['PERSON', 'ORG'], None, None)"
   ]
  },
  {
   "cell_type": "code",
   "execution_count": null,
   "metadata": {},
   "outputs": [],
   "source": []
  }
 ],
 "metadata": {
  "kernelspec": {
   "display_name": "Python 3",
   "language": "python",
   "name": "python3"
  },
  "language_info": {
   "codemirror_mode": {
    "name": "ipython",
    "version": 3
   },
   "file_extension": ".py",
   "mimetype": "text/x-python",
   "name": "python",
   "nbconvert_exporter": "python",
   "pygments_lexer": "ipython3",
   "version": "3.6.7"
  }
 },
 "nbformat": 4,
 "nbformat_minor": 2
}
